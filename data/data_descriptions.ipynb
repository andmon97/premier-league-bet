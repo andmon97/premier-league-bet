{
 "cells": [
  {
   "cell_type": "code",
   "execution_count": 6,
   "metadata": {},
   "outputs": [],
   "source": [
    "import pandas as pd\n",
    "import numpy as np\n",
    "import matplotlib.pyplot as plt\n",
    "pd.set_option('display.max_columns', None)\n",
    "\n",
    "import warnings\n",
    "warnings.filterwarnings('ignore')\n",
    "\n",
    "DATASET_FOLDER = 'raw'\n",
    "FILENAME = 'matches.csv'\n",
    "\n"
   ]
  },
  {
   "cell_type": "markdown",
   "metadata": {},
   "source": [
    "Reading the dataset from the csv file using pandas. \n",
    "head print the column names and first 5 rows.\n",
    "\"Unnamed: 0\" column we already see is useless."
   ]
  },
  {
   "cell_type": "code",
   "execution_count": 7,
   "metadata": {},
   "outputs": [
    {
     "name": "stdout",
     "output_type": "stream",
     "text": [
      "   Unnamed: 0        date           time            comp        round  day  \\\n",
      "0           0  2020-09-21  20:15 (21:15)  Premier League  Matchweek 2  Mon   \n",
      "1           2  2020-09-27  16:30 (17:30)  Premier League  Matchweek 3  Sun   \n",
      "2           4  2020-10-03  17:30 (18:30)  Premier League  Matchweek 4  Sat   \n",
      "3           5  2020-10-17  17:30 (18:30)  Premier League  Matchweek 5  Sat   \n",
      "4           7  2020-10-24  12:30 (13:30)  Premier League  Matchweek 6  Sat   \n",
      "\n",
      "  venue result  gf  ga        opponent   xg  xga  poss  attendance  \\\n",
      "0  Away      W   3   1          Wolves  1.9  0.6    65         NaN   \n",
      "1  Home      L   2   5  Leicester City  0.9  2.9    72         NaN   \n",
      "2  Away      D   1   1    Leeds United  1.2  2.4    49         NaN   \n",
      "3  Home      W   1   0         Arsenal  1.3  0.9    58         NaN   \n",
      "4  Away      D   1   1        West Ham  1.0  0.3    69         NaN   \n",
      "\n",
      "           captain formation         referee  match report  notes  sh  sot  \\\n",
      "0      Fernandinho   4-2-3-1  Andre Marriner  Match Report    NaN  13    8   \n",
      "1      Fernandinho   4-2-3-1  Michael Oliver  Match Report    NaN  16    5   \n",
      "2  Kevin De Bruyne     4-3-3       Mike Dean  Match Report    NaN  23    1   \n",
      "3  Raheem Sterling   3-1-4-2  Chris Kavanagh  Match Report    NaN  13    5   \n",
      "4  Raheem Sterling     4-3-3  Anthony Taylor  Match Report    NaN  14    7   \n",
      "\n",
      "   dist  fk  pk  pkatt  season             team  \n",
      "0  21.1   2   1      1    2024  Manchester City  \n",
      "1  19.8   1   0      0    2024  Manchester City  \n",
      "2  18.2   1   0      0    2024  Manchester City  \n",
      "3  17.7   0   0      0    2024  Manchester City  \n",
      "4  20.9   1   0      0    2024  Manchester City  \n"
     ]
    }
   ],
   "source": [
    "file_path = f'{DATASET_FOLDER}/{FILENAME}'\n",
    "df = pd.read_csv(file_path)\n",
    "\n",
    "print(df.head())"
   ]
  },
  {
   "cell_type": "markdown",
   "metadata": {},
   "source": [
    "describe print stats for each col.\n",
    "we can see \"notes\" is to remove having all nan."
   ]
  },
  {
   "cell_type": "code",
   "execution_count": 8,
   "metadata": {},
   "outputs": [
    {
     "name": "stdout",
     "output_type": "stream",
     "text": [
      "        Unnamed: 0           gf           ga           xg          xga  \\\n",
      "count  4788.000000  4788.000000  4788.000000  4788.000000  4788.000000   \n",
      "mean     63.044069     1.447995     1.405388     1.396512     1.364745   \n",
      "std      42.865191     1.312635     1.286927     0.828847     0.814947   \n",
      "min       0.000000     0.000000     0.000000     0.000000     0.000000   \n",
      "25%      28.000000     0.000000     0.000000     0.800000     0.700000   \n",
      "50%      62.000000     1.000000     1.000000     1.300000     1.200000   \n",
      "75%      87.000000     2.000000     2.000000     1.900000     1.800000   \n",
      "max     182.000000     9.000000     9.000000     7.000000     7.000000   \n",
      "\n",
      "              poss    attendance  notes           sh          sot  \\\n",
      "count  4788.000000   3155.000000    0.0  4788.000000  4788.000000   \n",
      "mean     50.432957  38397.586688    NaN    12.619256     4.261278   \n",
      "std      12.810958  17595.849137    NaN     5.548444     2.459963   \n",
      "min      18.000000   2000.000000    NaN     0.000000     0.000000   \n",
      "25%      41.000000  25513.500000    NaN     9.000000     2.000000   \n",
      "50%      51.000000  36347.000000    NaN    12.000000     4.000000   \n",
      "75%      60.000000  53235.500000    NaN    16.000000     6.000000   \n",
      "max      82.000000  75546.000000    NaN    36.000000    15.000000   \n",
      "\n",
      "              dist           fk           pk       pkatt       season  \n",
      "count  4786.000000  4788.000000  4788.000000  4788.00000  4788.000000  \n",
      "mean     17.356247     0.453216     0.118212     0.14599  2022.365079  \n",
      "std       3.049341     0.665250     0.342362     0.37937     1.461850  \n",
      "min       5.300000     0.000000     0.000000     0.00000  2020.000000  \n",
      "25%      15.400000     0.000000     0.000000     0.00000  2021.000000  \n",
      "50%      17.200000     0.000000     0.000000     0.00000  2023.000000  \n",
      "75%      19.100000     1.000000     0.000000     0.00000  2024.000000  \n",
      "max      39.900000     4.000000     3.000000     3.00000  2024.000000  \n"
     ]
    }
   ],
   "source": [
    "print(df.describe())"
   ]
  },
  {
   "cell_type": "code",
   "execution_count": 9,
   "metadata": {},
   "outputs": [
    {
     "name": "stdout",
     "output_type": "stream",
     "text": [
      "<class 'pandas.core.frame.DataFrame'>\n",
      "RangeIndex: 4788 entries, 0 to 4787\n",
      "Data columns (total 28 columns):\n",
      " #   Column        Non-Null Count  Dtype  \n",
      "---  ------        --------------  -----  \n",
      " 0   Unnamed: 0    4788 non-null   int64  \n",
      " 1   date          4788 non-null   object \n",
      " 2   time          4788 non-null   object \n",
      " 3   comp          4788 non-null   object \n",
      " 4   round         4788 non-null   object \n",
      " 5   day           4788 non-null   object \n",
      " 6   venue         4788 non-null   object \n",
      " 7   result        4788 non-null   object \n",
      " 8   gf            4788 non-null   int64  \n",
      " 9   ga            4788 non-null   int64  \n",
      " 10  opponent      4788 non-null   object \n",
      " 11  xg            4788 non-null   float64\n",
      " 12  xga           4788 non-null   float64\n",
      " 13  poss          4788 non-null   int64  \n",
      " 14  attendance    3155 non-null   float64\n",
      " 15  captain       4788 non-null   object \n",
      " 16  formation     4788 non-null   object \n",
      " 17  referee       4788 non-null   object \n",
      " 18  match report  4788 non-null   object \n",
      " 19  notes         0 non-null      float64\n",
      " 20  sh            4788 non-null   int64  \n",
      " 21  sot           4788 non-null   int64  \n",
      " 22  dist          4786 non-null   float64\n",
      " 23  fk            4788 non-null   int64  \n",
      " 24  pk            4788 non-null   int64  \n",
      " 25  pkatt         4788 non-null   int64  \n",
      " 26  season        4788 non-null   int64  \n",
      " 27  team          4788 non-null   object \n",
      "dtypes: float64(5), int64(10), object(13)\n",
      "memory usage: 1.0+ MB\n",
      "None\n"
     ]
    }
   ],
   "source": [
    "print(df.info())"
   ]
  },
  {
   "cell_type": "markdown",
   "metadata": {},
   "source": [
    "About Dataset\n",
    "Features description\n",
    "date : the date of the game                         change the type in date\n",
    "time : the time of the game                         change this\n",
    "comp : the competition of the game                  REMOVE ALWAYS SAME\n",
    "round : the round of the game\n",
    "day : the day of the week of the game\n",
    "venue : the venue of the game\n",
    "result : the result of the game\n",
    "gf : the goals for the home team\n",
    "ga : the goals for the away team\n",
    "opponent: the opponent of the home team\n",
    "xg : the expected goals for the home team\n",
    "xga : the expected goals for the away team\n",
    "poss : the possession of the home team\n",
    "captain : the captain of the home team\n",
    "formation : the formation of the home team\n",
    "referee : the referee of the game\n",
    "sh : the shots of the home team\n",
    "sot : the shots on target of the home team\n",
    "dist : the average distance of the shots of the home team\n",
    "fk : the free kicks of the home team\n",
    "pk : the penalty kicks of the home team\n",
    "pka : the penalty kicks attempted of the home team\n",
    "season : the season year of the match\n",
    "team: the home team"
   ]
  },
  {
   "cell_type": "markdown",
   "metadata": {},
   "source": [
    "Columns to remove:\n",
    "\"Unnamed: 0\"\n",
    "\"comp\" ALWAYS SAME\n",
    "\"round\" \n",
    "\"attendance\" too much nan\n",
    "\"note\" all nan\n",
    "\"match report\" always same strings"
   ]
  },
  {
   "cell_type": "markdown",
   "metadata": {},
   "source": [
    "look if there are duplicates and values of formations"
   ]
  },
  {
   "cell_type": "code",
   "execution_count": 12,
   "metadata": {},
   "outputs": [
    {
     "name": "stdout",
     "output_type": "stream",
     "text": [
      "0\n",
      "formation\n",
      "4-2-3-1       1382\n",
      "4-3-3         1025\n",
      "4-4-2          583\n",
      "3-4-3          548\n",
      "3-5-2          266\n",
      "4-1-4-1        258\n",
      "4-4-1-1        141\n",
      "3-4-1-2        113\n",
      "5-3-2          107\n",
      "5-4-1           99\n",
      "4-5-1           49\n",
      "4-3-1-2         47\n",
      "4-1-2-1-2◆      35\n",
      "4-2-2-2         29\n",
      "3-1-4-2         25\n",
      "4-3-2-1         22\n",
      "3-2-4-1         21\n",
      "3-3-3-1         17\n",
      "3-5-1-1         14\n",
      "3-4-3◆           3\n",
      "4-1-3-2          2\n",
      "4-2-4-0          2\n",
      "Name: count, dtype: int64\n"
     ]
    }
   ],
   "source": [
    "print(df.duplicated().sum()) # its 0 -> no duplicates\n",
    "print(df.formation.value_counts())"
   ]
  },
  {
   "cell_type": "markdown",
   "metadata": {},
   "source": [
    "formation need to be cleaned somewhere (-0, ◆ are wrong chars) (and we can also choose to remove classes with lower cardinality and collapse in \"other\" class value)"
   ]
  }
 ],
 "metadata": {
  "kernelspec": {
   "display_name": "venv",
   "language": "python",
   "name": "python3"
  },
  "language_info": {
   "codemirror_mode": {
    "name": "ipython",
    "version": 3
   },
   "file_extension": ".py",
   "mimetype": "text/x-python",
   "name": "python",
   "nbconvert_exporter": "python",
   "pygments_lexer": "ipython3",
   "version": "3.10.12"
  }
 },
 "nbformat": 4,
 "nbformat_minor": 2
}
